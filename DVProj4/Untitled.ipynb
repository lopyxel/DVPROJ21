{
 "cells": [
  {
   "cell_type": "code",
   "execution_count": null,
   "id": "2ab791a0",
   "metadata": {},
   "outputs": [
    {
     "name": "stdout",
     "output_type": "stream",
     "text": [
      " * Serving Flask app \"__main__\" (lazy loading)\n",
      " * Environment: production\n",
      "   WARNING: This is a development server. Do not use it in a production deployment.\n",
      "   Use a production WSGI server instead.\n",
      " * Debug mode: off\n"
     ]
    },
    {
     "name": "stderr",
     "output_type": "stream",
     "text": [
      " * Running on http://127.0.0.1:5000/ (Press CTRL+C to quit)\n"
     ]
    }
   ],
   "source": [
    "from flask import Flask, render_template, request\n",
    "\n",
    "import pandas as pd\n",
    "\n",
    "import tweepy\n",
    "\n",
    "\n",
    "API_KEY = \"oicq8ITFxrufAMoBHJ8hyvlLl\"\n",
    "API_SECRET = \"Ko7yh0Dh7rvu1FJ0VjYonc7eJooOlstW9w97t5sBv94YAklNSV\"\n",
    "AccessToken = \"1440589328913031178-Mn1bNDjrsfKj2E7tUo3iHrZb3VA3Eg\"\n",
    "accessTokenSecret = \"5qOvJu2UnDwOZoq3K5jUBjV0W0Lo1BfaoegkvSSvsdNfl\"\n",
    "\n",
    "auth = tweepy.OAuthHandler(API_KEY, API_SECRET)\n",
    "auth.set_access_token(AccessToken, accessTokenSecret)\n",
    "\n",
    "api = tweepy.API(auth)\n",
    "\n",
    "app = Flask(__name__)\n",
    "\n",
    "#cursor = tweepy.Cursor(api.user_timeline, id='elonmusk', tweet_mode=\"extended\").items(1)\n",
    "cursor = tweepy.Cursor(api.search, q=\"bitcoin\", tweet_mode=\"extended\").items(1)\n",
    "#for i in cursor:\n",
    "  #  print(i, '\\n')\n",
    " #   print(dir(i), '\\n')\n",
    "  #  print(i.full_text, '\\n')\n",
    "\n",
    "numTweets = 200\n",
    "tweets = []\n",
    "likes = []\n",
    "time = []\n",
    "location = []\n",
    "\n",
    "for i in tweepy.Cursor(api.user_timeline, id='elonmusk', tweet_mode=\"extended\").items(numTweets):\n",
    "    tweets.append(i.full_text)\n",
    "    likes.append(i.favorite_count)\n",
    "    time.append(i.created_at)\n",
    "    location.append(i.geo)\n",
    "\n",
    "df = pd.DataFrame({'tweets':tweets, 'likes':likes, 'time':time, 'location':location})\n",
    "\n",
    "df\n",
    "\n",
    "@app.route('/', methods=[\"GET\", \"POST\"])\n",
    "def homepage():\n",
    "    if request.method == \"POST\":\n",
    "        print(request.form[\"inputId\"])\n",
    "    return render_template('index.html')\n",
    "\n",
    "@app.route('/about', methods=[\"GET\"])\n",
    "def aboutpage():\n",
    "    return render_template(\"about.html\")\n",
    "\n",
    "@app.route('/charts', methods=[\"GET\"])\n",
    "def chartspage():\n",
    "    return render_template(\"charts.html\")\n",
    "\n",
    "@app.route('/charts', methods=[\"POST\"])\n",
    "def tweetspage():  # put application's code here\n",
    "\n",
    "    if request.method == 'POST':\n",
    "\n",
    "        query = request.form[\"query\"]\n",
    "\n",
    "        tweets = api.search_tweets(query)\n",
    "        print(tweets)\n",
    "        return render_template('charts.html', query = tweets)\n",
    "\n",
    "    return render_template('404.html')\n",
    "\n",
    "\n",
    "if __name__ == '__main__':\n",
    "    app.run()\n",
    "\n"
   ]
  },
  {
   "cell_type": "code",
   "execution_count": null,
   "id": "b5d420c9",
   "metadata": {},
   "outputs": [],
   "source": []
  }
 ],
 "metadata": {
  "kernelspec": {
   "display_name": "Python 3",
   "language": "python",
   "name": "python3"
  },
  "language_info": {
   "codemirror_mode": {
    "name": "ipython",
    "version": 3
   },
   "file_extension": ".py",
   "mimetype": "text/x-python",
   "name": "python",
   "nbconvert_exporter": "python",
   "pygments_lexer": "ipython3",
   "version": "3.8.8"
  }
 },
 "nbformat": 4,
 "nbformat_minor": 5
}
