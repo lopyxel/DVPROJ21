{
 "cells": [
  {
   "cell_type": "code",
   "execution_count": null,
   "id": "a9824f93",
   "metadata": {
    "pycharm": {
     "name": "#%%\n"
    }
   },
   "outputs": [
    {
     "name": "stdout",
     "output_type": "stream",
     "text": [
      " * Serving Flask app \"__main__\" (lazy loading)\n",
      " * Environment: production\n",
      "   WARNING: This is a development server. Do not use it in a production deployment.\n",
      "   Use a production WSGI server instead.\n",
      " * Debug mode: off\n"
     ]
    },
    {
     "name": "stderr",
     "output_type": "stream",
     "text": [
      " * Running on http://127.0.0.1:5000/ (Press CTRL+C to quit)\n",
      "127.0.0.1 - - [06/Oct/2021 10:39:09] \"\u001b[37mGET / HTTP/1.1\u001b[0m\" 200 -\n",
      "127.0.0.1 - - [06/Oct/2021 10:39:11] \"\u001b[37mGET /charts HTTP/1.1\u001b[0m\" 200 -\n",
      "127.0.0.1 - - [06/Oct/2021 10:39:15] \"\u001b[37mPOST /charts HTTP/1.1\u001b[0m\" 200 -\n",
      "127.0.0.1 - - [06/Oct/2021 10:41:37] \"\u001b[37mGET /charts HTTP/1.1\u001b[0m\" 200 -\n",
      "127.0.0.1 - - [06/Oct/2021 10:41:40] \"\u001b[37mPOST /charts HTTP/1.1\u001b[0m\" 200 -\n",
      "127.0.0.1 - - [06/Oct/2021 10:42:09] \"\u001b[37mPOST /charts HTTP/1.1\u001b[0m\" 200 -\n"
     ]
    }
   ],
   "source": [
    "from flask import Flask, render_template, request\n",
    "\n",
    "import tweepy as tp\n",
    "\n",
    "API_KEY = '4tTpp7mrto7UVTUGOSdajlhow'\n",
    "API_SECRET = 'Xa6izORV4A3kAgDwFX34JHzAQiYLjqnPLyuxn0umZGT0jitgQx'\n",
    "AccessToken = \"1440589328913031178-K70gP9TBIn3LCicw0Cx7EBvivUyeap\"\n",
    "accessTokenSecret = \"rESnfswSPO2OVGGlfHfro8tZhhWcwFIhxUh3Wj3Nlv3Uv\"\n",
    "\n",
    "auth = tp.OAuthHandler(API_KEY, API_SECRET)\n",
    "auth.set_access_token(AccessToken, accessTokenSecret)\n",
    "\n",
    "api = tp.API(auth)\n",
    "\n",
    "app = Flask(__name__)\n",
    "\n",
    "@app.route('/', methods=['GET', \"POST\"])\n",
    "def homepage():\n",
    "    if request.method == \"POST\":\n",
    "        print(request.form['inputId'])\n",
    "    return render_template('index.html')\n",
    "\n",
    "@app.route('/about', methods=['GET'])\n",
    "def aboutpage():\n",
    "    return render_template('about.html')\n",
    "\n",
    "@app.route('/charts', methods=['GET'])\n",
    "def chartspage():\n",
    "    return render_template('charts.html')\n",
    "\n",
    "@app.route('/charts', methods=['POST'])\n",
    "def tweetspage():  # put application's code here\n",
    "\n",
    "    if request.method == 'POST':    \n",
    "        query = request.form['query']\n",
    "        tweets = api.search(query)\n",
    "        print(tweets)\n",
    "        return render_template('charts.html', query = tweets)\n",
    "\n",
    "    return render_template('404.html')\n",
    "\n",
    "\n",
    "if __name__ == '__main__':\n",
    "    app.run()\n"
   ]
  },
  {
   "cell_type": "code",
   "execution_count": null,
   "id": "04ec9f46",
   "metadata": {
    "pycharm": {
     "name": "#%%\n"
    }
   },
   "outputs": [],
   "source": []
  },
  {
   "cell_type": "code",
   "execution_count": null,
   "id": "bcb3f8df",
   "metadata": {},
   "outputs": [],
   "source": []
  }
 ],
 "metadata": {
  "kernelspec": {
   "display_name": "Python 3",
   "language": "python",
   "name": "python3"
  },
  "language_info": {
   "codemirror_mode": {
    "name": "ipython",
    "version": 3
   },
   "file_extension": ".py",
   "mimetype": "text/x-python",
   "name": "python",
   "nbconvert_exporter": "python",
   "pygments_lexer": "ipython3",
   "version": "3.8.8"
  }
 },
 "nbformat": 4,
 "nbformat_minor": 5
}
