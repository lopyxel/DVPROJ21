{
 "cells": [
  {
   "cell_type": "code",
   "execution_count": 1,
   "metadata": {
    "collapsed": true
   },
   "outputs": [
    {
     "name": "stdout",
     "output_type": "stream",
     "text": [
      "Textblob output:  0.125\n",
      "I dont care about you. I couldn't care if you are alive or not! {'neg': 0.324, 'neu': 0.525, 'pos': 0.152, 'compound': -0.4493}\n"
     ]
    }
   ],
   "source": [
    "from vader_sentiment.vader_sentiment import SentimentIntensityAnalyzer\n",
    "from textblob import TextBlob\n",
    "\n",
    "text = \"I dont care about you. I couldn't care if you are alive or not!\"\n",
    "analyser = SentimentIntensityAnalyzer()\n",
    "blob = TextBlob(text)\n",
    "\n",
    "print(\"Textblob output: \", blob.sentiment.polarity)\n",
    "def sentiment_analyser_score(data):\n",
    "    score = analyser.polarity_scores(data)\n",
    "    print(\"{:-<40} {}\".format(data,str(score)))\n",
    "\n",
    "sentiment_analyser_score(text)\n"
   ]
  }
 ],
 "metadata": {
  "kernelspec": {
   "display_name": "Python 3",
   "language": "python",
   "name": "python3"
  },
  "language_info": {
   "codemirror_mode": {
    "name": "ipython",
    "version": 2
   },
   "file_extension": ".py",
   "mimetype": "text/x-python",
   "name": "python",
   "nbconvert_exporter": "python",
   "pygments_lexer": "ipython2",
   "version": "2.7.6"
  }
 },
 "nbformat": 4,
 "nbformat_minor": 0
}